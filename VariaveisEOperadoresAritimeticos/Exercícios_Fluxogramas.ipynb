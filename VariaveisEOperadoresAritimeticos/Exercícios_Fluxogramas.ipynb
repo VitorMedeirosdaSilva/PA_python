{
  "nbformat": 4,
  "nbformat_minor": 0,
  "metadata": {
    "colab": {
      "provenance": [],
      "authorship_tag": "ABX9TyNLV/qMRzZIsWI/w2iLEC4U",
      "include_colab_link": true
    },
    "kernelspec": {
      "name": "python3",
      "display_name": "Python 3"
    },
    "language_info": {
      "name": "python"
    }
  },
  "cells": [
    {
      "cell_type": "markdown",
      "metadata": {
        "id": "view-in-github",
        "colab_type": "text"
      },
      "source": [
        "<a href=\"https://colab.research.google.com/github/VitorMedeirosdaSilva/PA_python/blob/main/Exerc%C3%ADcios_Fluxogramas.ipynb\" target=\"_parent\"><img src=\"https://colab.research.google.com/assets/colab-badge.svg\" alt=\"Open In Colab\"/></a>"
      ]
    },
    {
      "cell_type": "markdown",
      "source": [
        "# Exercícios feitos também no fluxograma"
      ],
      "metadata": {
        "id": "V2KtBy8QeaWh"
      }
    },
    {
      "cell_type": "code",
      "source": [
        "##calculo média\n",
        "\n",
        "#recebe os dois numeros\n",
        "num1 = float(input(\"Digite o primeiro numéro: \"))\n",
        "num2 = float(input(\"Digite o segundo numéro: \"))\n",
        "\n",
        "#calculo\n",
        "media = (num1 + num2)/ 2\n",
        "\n",
        "#saida\n",
        "print (f\"a média é: {media:.2f}\")\n",
        "\n"
      ],
      "metadata": {
        "colab": {
          "base_uri": "https://localhost:8080/"
        },
        "id": "BrsNYq06eaLe",
        "outputId": "660d7145-7145-45dc-dd39-305a2db76efb"
      },
      "execution_count": 62,
      "outputs": [
        {
          "output_type": "stream",
          "name": "stdout",
          "text": [
            "Digite o primeiro numéro: 5\n",
            "Digite o segundo numéro: 15\n",
            "a média é: 10.0\n"
          ]
        }
      ]
    },
    {
      "cell_type": "code",
      "source": [
        "##conversao moeda\n",
        "\n",
        "#recebe o valor e cotação\n",
        "valorreais = float(input(\"Digite o valor em reais: \"))\n",
        "cotacao = float(input(\"Digite a cotacao: \"))\n",
        "\n",
        "#calculo\n",
        "resultado = (valorreais/cotacao)\n",
        "\n",
        "#saida\n",
        "print (f\"o valor em dolar é: ${resultado:.2f}\")"
      ],
      "metadata": {
        "colab": {
          "base_uri": "https://localhost:8080/"
        },
        "id": "0W8KIFNzeaD5",
        "outputId": "a091a728-88b1-4727-ecca-e8084d428bcd"
      },
      "execution_count": 66,
      "outputs": [
        {
          "output_type": "stream",
          "name": "stdout",
          "text": [
            "Digite o valor em reais: 50\n",
            "Digite a cotacao: 5.73\n",
            "o valor em dolar é: $8.73\n"
          ]
        }
      ]
    },
    {
      "cell_type": "code",
      "source": [
        "#comissao\n",
        "\n",
        "#recebe o valor do produto e quantidade\n",
        "valor = float(input(\"digite o valor do produto: \"))\n",
        "quantidade = float(input(\"digite a quantidade vendida: \"))\n",
        "\n",
        "#calculo\n",
        "venda = valor*quantidade\n",
        "comissao = (venda*5)/100\n",
        "\n",
        "#saida\n",
        "print (f\"sua comissao foi de: R${comissao:.2f}\")"
      ],
      "metadata": {
        "colab": {
          "base_uri": "https://localhost:8080/"
        },
        "id": "BwRHM-3weZzm",
        "outputId": "398097bd-0e8a-4a64-e699-265ee629c393"
      },
      "execution_count": 70,
      "outputs": [
        {
          "output_type": "stream",
          "name": "stdout",
          "text": [
            "digite o valor do produto: 15\n",
            "digite a quantidade vendida: 3\n",
            "sua comissao foi de: R$2.25\n"
          ]
        }
      ]
    },
    {
      "cell_type": "markdown",
      "source": [
        "# Exercícios do slide"
      ],
      "metadata": {
        "id": "6VzG2bfEeVi5"
      }
    },
    {
      "cell_type": "code",
      "execution_count": 72,
      "metadata": {
        "colab": {
          "base_uri": "https://localhost:8080/"
        },
        "id": "rSqJKLjDB6tc",
        "outputId": "f36a59f0-c58c-4939-f711-986bf90f443e"
      },
      "outputs": [
        {
          "output_type": "stream",
          "name": "stdout",
          "text": [
            "Digite o valor de fábrica do carro: 25000\n",
            "O custo do carro ao consumidor é: R$46400.00\n"
          ]
        }
      ],
      "source": [
        "#Recebe o Preço de Fábrica do carro\n",
        "PrecoDeFabrica = float(input(\"Digite o valor de fábrica do carro: \"))\n",
        "\n",
        "\n",
        "#Calcula o Imposto + o preço de fábrica, e calcula\n",
        "ImpostoTrib = (PrecoDeFabrica *45/100) + PrecoDeFabrica\n",
        "Distribuicao = ImpostoTrib *28 / 100\n",
        "CustoAoConsumidor = ImpostoTrib + Distribuicao\n",
        "\n",
        "#SAIDA\n",
        "print (f\"O custo do carro ao consumidor é: R${CustoAoConsumidor:.2f}\")"
      ]
    },
    {
      "cell_type": "code",
      "source": [
        "#Recebe as horas\n",
        "Horas = float(input(\"Digite as horas: \"))\n",
        "Minutos = float(input(\"Digite os minutos: \"))\n",
        "\n",
        "\n",
        "#Transforma as Horas para poderem ser utilizadas no Calculo e faz o Calculo de horas para segundos\n",
        "HorasCalc = (Minutos/60) + Horas\n",
        "Segundos = HorasCalc * 3600\n",
        "\n",
        "#Diz o tempo em segundos\n",
        "print (f\"Esse tempo em segundos é = {Segundos:.2f} segundos\")"
      ],
      "metadata": {
        "colab": {
          "base_uri": "https://localhost:8080/"
        },
        "id": "oXNAxz4TGJdS",
        "outputId": "38357bb8-b699-43ce-fe78-f0576d6279f2"
      },
      "execution_count": 73,
      "outputs": [
        {
          "output_type": "stream",
          "name": "stdout",
          "text": [
            "Digite as horas: 4\n",
            "Digite os minutos: 23\n",
            "Esse tempo em segundos é = 15780.00 segundos\n"
          ]
        }
      ]
    },
    {
      "cell_type": "code",
      "source": [
        "#Recebe as Horas trabalhadas e Quanto o funcionário recebe por hora\n",
        "Horas = float(input(\"Digite as horas tralhadas: \"))\n",
        "Minutos = float(input(\"Digite os minutos trabalhados: \"))\n",
        "GanhoPorHora = float(input(\"Digite o quanto você ganhe por hora: \"))\n",
        "\n",
        "\n",
        "#Transforma as Horas para poderem ser utilizadas no Calculo e faz o Calculo do tanto ganho nas horas extras\n",
        "GanhoNaHoraExtra =(GanhoPorHora*70 / 100) + GanhoPorHora\n",
        "HorasCalc = (Minutos/60) + Horas\n",
        "DinheiroFeito = HorasCalc * GanhoNaHoraExtra\n",
        "\n",
        "#Diz o tanto feito na hora extra\n",
        "print (f\"Você ganhou R${DinheiroFeito:.2f} na hora extra\")"
      ],
      "metadata": {
        "colab": {
          "base_uri": "https://localhost:8080/"
        },
        "id": "oUvAs4x3Ir-W",
        "outputId": "129558bf-c8c7-484d-d5f0-d4d9c25eca26"
      },
      "execution_count": 74,
      "outputs": [
        {
          "output_type": "stream",
          "name": "stdout",
          "text": [
            "Digite as horas tralhadas: 15\n",
            "Digite os minutos trabalhados: 45\n",
            "Digite o quanto você ganhe por hora: 25\n",
            "Você ganhou R$669.38 na hora extra\n"
          ]
        }
      ]
    }
  ]
}